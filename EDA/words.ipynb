{
 "cells": [
  {
   "cell_type": "code",
   "execution_count": 1,
   "id": "304a6616-a06c-4adc-8425-52c9ed861536",
   "metadata": {},
   "outputs": [],
   "source": [
    "from collections import Counter\n",
    "import re\n",
    "import pandas as pd\n",
    "from nltk.corpus import stopwords\n",
    "from nltk.stem import SnowballStemmer\n",
    "from nltk.stem import WordNetLemmatizer"
   ]
  },
  {
   "cell_type": "code",
   "execution_count": 2,
   "id": "dc9e569f-32cb-4598-9519-94990cfaec9c",
   "metadata": {},
   "outputs": [],
   "source": [
    "data = pd.read_csv(\"train.csv\")"
   ]
  },
  {
   "cell_type": "markdown",
   "id": "4d6b70cd-7c81-4ddd-afa8-ff5ae8937a8a",
   "metadata": {},
   "source": [
    "## Найбільш частовживані слова"
   ]
  },
  {
   "cell_type": "code",
   "execution_count": 3,
   "id": "b50e1aec-b22b-4510-933d-8708a3bdb244",
   "metadata": {},
   "outputs": [
    {
     "name": "stdout",
     "output_type": "stream",
     "text": [
      "CPU times: user 5min 25s, sys: 59 s, total: 6min 24s\n",
      "Wall time: 6min 28s\n"
     ]
    }
   ],
   "source": [
    "%%time\n",
    "\n",
    "def clean_text(text):\n",
    "    text = text.lower()\n",
    "    text = re.sub(r'\\W', ' ', text)\n",
    "    text = re.sub(r'\\d', '', text)\n",
    "    text = ' '.join([word for word in text.split() if len(word) > 2])\n",
    "    lemmatizer = WordNetLemmatizer()\n",
    "    text = ' '.join([lemmatizer.lemmatize(word) for word in text.split()])\n",
    "    text = ' '.join([word for word in text.split() if word not in stopwords.words('english')])\n",
    "    return text\n",
    "\n",
    "data['cleaned_comment_text'] = data['comment_text'].apply(clean_text)\n",
    "\n",
    "all_comments = ' '.join(data['cleaned_comment_text'])"
   ]
  },
  {
   "cell_type": "code",
   "execution_count": 4,
   "id": "5bad0a7d-d841-462f-8182-b5ac5f2e75a2",
   "metadata": {},
   "outputs": [
    {
     "data": {
      "text/plain": [
       "[('article', 74397),\n",
       " ('page', 57206),\n",
       " ('wa', 54588),\n",
       " ('wikipedia', 48452),\n",
       " ('talk', 37406),\n",
       " ('one', 30733),\n",
       " ('ha', 30732),\n",
       " ('please', 29796),\n",
       " ('would', 29323),\n",
       " ('like', 28434),\n",
       " ('see', 21805),\n",
       " ('source', 21782),\n",
       " ('think', 20768),\n",
       " ('also', 20641),\n",
       " ('know', 20162),\n",
       " ('time', 19267),\n",
       " ('people', 18937),\n",
       " ('edit', 18293),\n",
       " ('user', 17975),\n",
       " ('use', 16594),\n",
       " ('make', 16235),\n",
       " ('may', 15621),\n",
       " ('image', 14852),\n",
       " ('get', 14674),\n",
       " ('say', 14418),\n",
       " ('thanks', 13914),\n",
       " ('need', 13906),\n",
       " ('name', 13555),\n",
       " ('even', 13469),\n",
       " ('link', 13463),\n",
       " ('good', 12884),\n",
       " ('want', 12709),\n",
       " ('well', 12567),\n",
       " ('information', 12252),\n",
       " ('way', 12176),\n",
       " ('doe', 12051),\n",
       " ('could', 11968),\n",
       " ('comment', 11851),\n",
       " ('editor', 11780),\n",
       " ('deletion', 11736),\n",
       " ('section', 11602),\n",
       " ('question', 11320),\n",
       " ('help', 11308),\n",
       " ('thing', 11138),\n",
       " ('first', 10993),\n",
       " ('fact', 10833),\n",
       " ('new', 10683),\n",
       " ('look', 10419),\n",
       " ('work', 10400),\n",
       " ('point', 10381),\n",
       " ('editing', 10373),\n",
       " ('fuck', 10178),\n",
       " ('discussion', 10124),\n",
       " ('right', 10033),\n",
       " ('edits', 9991),\n",
       " ('thank', 9905),\n",
       " ('made', 9683),\n",
       " ('many', 9588),\n",
       " ('much', 9485),\n",
       " ('used', 9217),\n",
       " ('really', 9210),\n",
       " ('find', 9199),\n",
       " ('take', 9152),\n",
       " ('deleted', 9123),\n",
       " ('reference', 9118),\n",
       " ('read', 8840),\n",
       " ('add', 8718),\n",
       " ('since', 8688),\n",
       " ('list', 8640),\n",
       " ('change', 8410),\n",
       " ('someone', 8187),\n",
       " ('reason', 8154),\n",
       " ('policy', 8095),\n",
       " ('wiki', 8092),\n",
       " ('back', 7998),\n",
       " ('year', 7990),\n",
       " ('two', 7988),\n",
       " ('still', 7942),\n",
       " ('content', 7858),\n",
       " ('state', 7796),\n",
       " ('block', 7693),\n",
       " ('issue', 7670),\n",
       " ('case', 7549),\n",
       " ('word', 7546),\n",
       " ('mean', 7515),\n",
       " ('http', 7508),\n",
       " ('said', 7505),\n",
       " ('something', 7469),\n",
       " ('going', 7419),\n",
       " ('blocked', 7387),\n",
       " ('stop', 7356),\n",
       " ('place', 7318),\n",
       " ('note', 7288),\n",
       " ('without', 7163),\n",
       " ('history', 7144),\n",
       " ('problem', 7056),\n",
       " ('day', 6892),\n",
       " ('added', 6884),\n",
       " ('utc', 6878),\n",
       " ('person', 6855)]"
      ]
     },
     "execution_count": 4,
     "metadata": {},
     "output_type": "execute_result"
    }
   ],
   "source": [
    "word_frequencies = Counter(all_comments.split())\n",
    "most_common_words = word_frequencies.most_common(100)\n",
    "most_common_words"
   ]
  },
  {
   "cell_type": "code",
   "execution_count": 5,
   "id": "ce01e229-0c17-48a8-85bb-81d2068181d9",
   "metadata": {},
   "outputs": [
    {
     "data": {
      "text/plain": [
       "[('fuck', 10006),\n",
       " ('suck', 4678),\n",
       " ('wikipedia', 3678),\n",
       " ('shit', 3639),\n",
       " ('like', 3637),\n",
       " ('nigger', 3427),\n",
       " ('fucking', 3290),\n",
       " ('faggot', 2693),\n",
       " ('hate', 2682),\n",
       " ('page', 2587)]"
      ]
     },
     "execution_count": 5,
     "metadata": {},
     "output_type": "execute_result"
    }
   ],
   "source": [
    "toxic_comments = data[data['toxic'] == 1]['cleaned_comment_text']\n",
    "\n",
    "all_toxic_comments = ' '.join(toxic_comments)\n",
    "toxic_word_frequencies = Counter(all_toxic_comments.split())\n",
    "most_common_toxic_words = toxic_word_frequencies.most_common(10)\n",
    "most_common_toxic_words"
   ]
  },
  {
   "cell_type": "code",
   "execution_count": 6,
   "id": "64ad71f1-30fc-48c0-ad1e-9f69939e83af",
   "metadata": {},
   "outputs": [
    {
     "data": {
      "text/plain": [
       "[('fuck', 7319),\n",
       " ('suck', 3496),\n",
       " ('shit', 1887),\n",
       " ('faggot', 1576),\n",
       " ('bitch', 1543),\n",
       " ('fucking', 1457),\n",
       " ('die', 1156),\n",
       " ('cunt', 1039),\n",
       " ('nigger', 1019),\n",
       " ('cock', 914)]"
      ]
     },
     "execution_count": 6,
     "metadata": {},
     "output_type": "execute_result"
    }
   ],
   "source": [
    "toxic_comments = data[data['severe_toxic'] == 1]['cleaned_comment_text']\n",
    "\n",
    "all_toxic_comments = ' '.join(toxic_comments)\n",
    "toxic_word_frequencies = Counter(all_toxic_comments.split())\n",
    "most_common_toxic_words = toxic_word_frequencies.most_common(10)\n",
    "most_common_toxic_words"
   ]
  },
  {
   "cell_type": "code",
   "execution_count": 7,
   "id": "6ef50779-005d-4e6e-a7b9-177d6104f242",
   "metadata": {},
   "outputs": [
    {
     "data": {
      "text/plain": [
       "[('fuck', 9926),\n",
       " ('suck', 4089),\n",
       " ('shit', 3225),\n",
       " ('fucking', 3193),\n",
       " ('nigger', 2838),\n",
       " ('bitch', 2274),\n",
       " ('wikipedia', 1905),\n",
       " ('faggot', 1893),\n",
       " ('cunt', 1785),\n",
       " ('like', 1621)]"
      ]
     },
     "execution_count": 7,
     "metadata": {},
     "output_type": "execute_result"
    }
   ],
   "source": [
    "toxic_comments = data[data['obscene'] == 1]['cleaned_comment_text']\n",
    "\n",
    "all_toxic_comments = ' '.join(toxic_comments)\n",
    "toxic_word_frequencies = Counter(all_toxic_comments.split())\n",
    "most_common_toxic_words = toxic_word_frequencies.most_common(10)\n",
    "most_common_toxic_words"
   ]
  },
  {
   "cell_type": "code",
   "execution_count": 8,
   "id": "6f55514a-3243-4853-abae-d1ec2760b94b",
   "metadata": {},
   "outputs": [
    {
     "data": {
      "text/plain": [
       "[('die', 1168),\n",
       " ('kill', 505),\n",
       " ('going', 294),\n",
       " ('wikipedia', 200),\n",
       " ('block', 170),\n",
       " ('fuck', 167),\n",
       " ('must', 167),\n",
       " ('jim', 158),\n",
       " ('wale', 158),\n",
       " ('supertrll', 152)]"
      ]
     },
     "execution_count": 8,
     "metadata": {},
     "output_type": "execute_result"
    }
   ],
   "source": [
    "toxic_comments = data[data['threat'] == 1]['cleaned_comment_text']\n",
    "\n",
    "all_toxic_comments = ' '.join(toxic_comments)\n",
    "toxic_word_frequencies = Counter(all_toxic_comments.split())\n",
    "most_common_toxic_words = toxic_word_frequencies.most_common(10)\n",
    "most_common_toxic_words"
   ]
  },
  {
   "cell_type": "code",
   "execution_count": 9,
   "id": "a5f3ea1e-b127-40e0-81f9-af2102a0582d",
   "metadata": {},
   "outputs": [
    {
     "data": {
      "text/plain": [
       "[('fuck', 7977),\n",
       " ('suck', 3746),\n",
       " ('nigger', 2891),\n",
       " ('fucking', 2800),\n",
       " ('faggot', 2532),\n",
       " ('bitch', 2205),\n",
       " ('fat', 1926),\n",
       " ('shit', 1702),\n",
       " ('cunt', 1690),\n",
       " ('like', 1633)]"
      ]
     },
     "execution_count": 9,
     "metadata": {},
     "output_type": "execute_result"
    }
   ],
   "source": [
    "toxic_comments = data[data['insult'] == 1]['cleaned_comment_text']\n",
    "\n",
    "all_toxic_comments = ' '.join(toxic_comments)\n",
    "toxic_word_frequencies = Counter(all_toxic_comments.split())\n",
    "most_common_toxic_words = toxic_word_frequencies.most_common(10)\n",
    "most_common_toxic_words"
   ]
  },
  {
   "cell_type": "code",
   "execution_count": 10,
   "id": "b14e5809-0d3d-4e15-b15f-5479bd9661a5",
   "metadata": {},
   "outputs": [
    {
     "data": {
      "text/plain": [
       "[('nigger', 3088),\n",
       " ('jew', 1499),\n",
       " ('fat', 1322),\n",
       " ('gay', 934),\n",
       " ('fuck', 886),\n",
       " ('die', 879),\n",
       " ('faggot', 762),\n",
       " ('fucking', 518),\n",
       " ('nigga', 512),\n",
       " ('suck', 505)]"
      ]
     },
     "execution_count": 10,
     "metadata": {},
     "output_type": "execute_result"
    }
   ],
   "source": [
    "toxic_comments = data[data['identity_hate'] == 1]['cleaned_comment_text']\n",
    "\n",
    "all_toxic_comments = ' '.join(toxic_comments)\n",
    "toxic_word_frequencies = Counter(all_toxic_comments.split())\n",
    "most_common_toxic_words = toxic_word_frequencies.most_common(10)\n",
    "most_common_toxic_words"
   ]
  }
 ],
 "metadata": {
  "kernelspec": {
   "display_name": "Python 3 (ipykernel)",
   "language": "python",
   "name": "python3"
  },
  "language_info": {
   "codemirror_mode": {
    "name": "ipython",
    "version": 3
   },
   "file_extension": ".py",
   "mimetype": "text/x-python",
   "name": "python",
   "nbconvert_exporter": "python",
   "pygments_lexer": "ipython3",
   "version": "3.8.18"
  }
 },
 "nbformat": 4,
 "nbformat_minor": 5
}
